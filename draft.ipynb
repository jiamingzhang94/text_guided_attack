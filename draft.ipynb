{
 "cells": [
  {
   "cell_type": "code",
   "execution_count": 1,
   "metadata": {
    "collapsed": true,
    "ExecuteTime": {
     "end_time": "2024-06-24T08:03:22.584095Z",
     "start_time": "2024-06-24T08:03:18.159695300Z"
    }
   },
   "outputs": [],
   "source": [
    "import sys\n",
    "sys.path.append('/data2/junhong/proj/text_guide_attack')\n",
    "import os\n",
    "os.environ[\"CUDA_VISIBLE_DEVICES\"] = \"6\"\n",
    "import torch\n",
    "import pyarrow.parquet as pq\n",
    "import torch.nn as nn\n",
    "import torch.nn.functional as F\n",
    "import torch.optim as optim\n",
    "\n",
    "from torchvision import datasets, transforms\n",
    "import numpy as np\n",
    "import matplotlib.pyplot as plt\n",
    "import torchvision\n",
    "from torch.utils.data import Dataset, DataLoader\n",
    "from dataset import MS_COCO, collate_fn\n",
    "from transformers import CLIPProcessor, CLIPModel\n",
    "from PIL import Image\n",
    "import argparse\n",
    "from tqdm import tqdm\n",
    "from model.clip_unet import CLIP_encoder_decoder\n",
    "\n",
    "device = torch.device(\"cuda\" if torch.cuda.is_available() else \"cpu\")\n",
    "\n",
    "def args(argparse):\n",
    "    argparse.add_argument(\"--train\", type=str, default=True)\n",
    "    argparse.add_argument(\"--clip_model_path\", type=str, default=\"/data2/ModelWarehouse/clip-vit-base-patch32\")\n",
    "    argparse.add_argument(\"--image_path\", type=str, default=\"/data2/zhiyu/data/coco/images/train2017\")\n",
    "    argparse.add_argument(\"--data_path\", type=str,\n",
    "                      default=\"/data2/junhong/proj/text_guide_attack/data/mscoco_exist.parquet\")\n",
    "    argparse.add_argument(\"--epoch\", type=int, default=20)\n",
    "    argparse.add_argument(\"--batch_size\", type=int, default=256)\n",
    "    argparse.add_argument(\"--shuffle\", type=bool, default=True)\n",
    "    argparse.add_argument(\"--mode\", type=str, default=\"test\")\n",
    "    argparse.add_argument(\"--model_path\", type=str, default=\"save_model/model_epoch_20.pth\")\n",
    "    args = argparse.parse_args()\n",
    "    return args"
   ]
  },
  {
   "cell_type": "code",
   "execution_count": 2,
   "outputs": [],
   "source": [
    "# argparse= argparse.ArgumentParser()\n",
    "# args= args(argparse)\n",
    "processor = CLIPProcessor.from_pretrained(\"/data2/ModelWarehouse/clip-vit-base-patch32\")\n",
    "encoder = CLIPModel.from_pretrained(\"/data2/ModelWarehouse/clip-vit-base-patch32\").to(device).eval()"
   ],
   "metadata": {
    "collapsed": false,
    "ExecuteTime": {
     "end_time": "2024-06-24T08:03:25.051790200Z",
     "start_time": "2024-06-24T08:03:22.601160Z"
    }
   }
  },
  {
   "cell_type": "code",
   "execution_count": 3,
   "outputs": [],
   "source": [
    "class MS_COCO(Dataset):\n",
    "    def __init__(self, data_path,image_path):\n",
    "        self.args = args\n",
    "        self.data_list=pq.read_table(data_path)\n",
    "        self.data_list=self.data_list.to_pandas()\n",
    "        self.image_path=image_path\n",
    "\n",
    "    def __len__(self):\n",
    "        return len(self.data_list)\n",
    "\n",
    "    def __getitem__(self, idx):\n",
    "\n",
    "        text = self.data_list['TEXT'][idx]\n",
    "\n",
    "        image_name = self.data_list['URL'][idx]\n",
    "\n",
    "        img_path=os.path.join(self.image_path,image_name)\n",
    "        img = Image.open(img_path).convert('RGB')\n",
    "\n",
    "        # You can perform additional transformations on the image here if needed\n",
    "\n",
    "        return img, text\n",
    "batch_size = 256\n",
    "data_path=\"/data2/junhong/proj/text_guide_attack/data/mscoco_exist.parquet\"\n",
    "image_path=\"/data2/zhiyu/data/coco/images/train2017\"\n",
    "train_dataset = MS_COCO(data_path,image_path)\n",
    "train_data_loader = DataLoader(train_dataset, batch_size=batch_size, shuffle=True,collate_fn=collate_fn)"
   ],
   "metadata": {
    "collapsed": false,
    "ExecuteTime": {
     "end_time": "2024-06-24T08:03:25.416896100Z",
     "start_time": "2024-06-24T08:03:25.068697500Z"
    }
   }
  },
  {
   "cell_type": "code",
   "execution_count": 4,
   "outputs": [
    {
     "name": "stderr",
     "output_type": "stream",
     "text": [
      "Testing:   0%|                                          | 0/463 [00:03<?, ?it/s]\n"
     ]
    }
   ],
   "source": [
    "def process_text(texts):\n",
    "    input_text = []\n",
    "    for text in texts:\n",
    "        input_text.append(text[0])\n",
    "    return input_text\n",
    "for (images, texts) in tqdm(train_data_loader, desc=\"Testing\", position=0):\n",
    "    inputs = processor(text=process_text(texts), images=images, return_tensors=\"pt\", padding=True).to(device)\n",
    "    break"
   ],
   "metadata": {
    "collapsed": false,
    "ExecuteTime": {
     "end_time": "2024-06-24T08:03:29.246786600Z",
     "start_time": "2024-06-24T08:03:25.434054Z"
    }
   }
  },
  {
   "cell_type": "code",
   "execution_count": 5,
   "outputs": [
    {
     "data": {
      "text/plain": "CLIPOutput(loss=None, logits_per_image=tensor([[28.3239, 14.1571, 18.9245,  ..., 11.2521,  8.8391, 13.8871],\n        [18.4652, 30.3185,  9.9260,  ..., 12.1234, 18.7343, 12.8444],\n        [17.2572, 12.5573, 28.3465,  ..., 11.9973, 10.2950, 11.0302],\n        ...,\n        [18.9985, 12.8682,  8.7138,  ..., 33.1035, 11.9111, 13.3936],\n        [17.2938, 14.5991, 14.4264,  ..., 10.5532, 37.3439,  9.2228],\n        [16.4232, 15.4139, 13.6517,  ..., 14.3283, 10.8179, 31.8879]],\n       device='cuda:0', grad_fn=<TBackward0>), logits_per_text=tensor([[28.3239, 18.4652, 17.2572,  ..., 18.9985, 17.2938, 16.4232],\n        [14.1571, 30.3185, 12.5573,  ..., 12.8682, 14.5991, 15.4139],\n        [18.9245,  9.9260, 28.3465,  ...,  8.7138, 14.4264, 13.6517],\n        ...,\n        [11.2521, 12.1234, 11.9973,  ..., 33.1035, 10.5532, 14.3283],\n        [ 8.8391, 18.7343, 10.2950,  ..., 11.9111, 37.3439, 10.8179],\n        [13.8871, 12.8444, 11.0302,  ..., 13.3936,  9.2228, 31.8879]],\n       device='cuda:0', grad_fn=<MulBackward0>), text_embeds=tensor([[ 0.0315, -0.0017, -0.0476,  ...,  0.0024, -0.0081, -0.0108],\n        [-0.0164,  0.0102, -0.0487,  ...,  0.0462,  0.0663, -0.0429],\n        [-0.0124, -0.0232, -0.0313,  ...,  0.0060, -0.0224,  0.0273],\n        ...,\n        [-0.0292,  0.0070,  0.0052,  ...,  0.0609,  0.0383, -0.0467],\n        [ 0.0499,  0.0021, -0.0343,  ...,  0.0579, -0.0634, -0.0066],\n        [-0.0622,  0.0422,  0.0313,  ...,  0.0568, -0.0173, -0.0845]],\n       device='cuda:0', grad_fn=<DivBackward0>), image_embeds=tensor([[ 0.0348,  0.0618,  0.0008,  ...,  0.0446, -0.0321, -0.0199],\n        [ 0.0116,  0.0434, -0.0108,  ...,  0.0817,  0.0175, -0.0981],\n        [-0.0130,  0.0240, -0.0218,  ...,  0.0854, -0.0084, -0.0061],\n        ...,\n        [-0.0510,  0.0525,  0.0359,  ...,  0.0178,  0.0144,  0.0175],\n        [ 0.0018, -0.0326, -0.0059,  ..., -0.0060, -0.0060, -0.0010],\n        [-0.0378,  0.0632,  0.0350,  ...,  0.0780, -0.0102, -0.0306]],\n       device='cuda:0', grad_fn=<DivBackward0>), text_model_output=BaseModelOutputWithPooling(last_hidden_state=tensor([[[ 0.3393,  0.1165,  0.1020,  ...,  0.2468,  0.5906,  0.1013],\n         [-0.4497, -0.5744, -1.6041,  ...,  0.9623, -0.5811, -1.3956],\n         [ 1.1631, -0.4413, -0.0564,  ..., -0.7655, -0.0268, -1.6905],\n         ...,\n         [ 1.8293, -0.0264,  0.5175,  ...,  0.0734, -0.0567, -0.3224],\n         [ 1.8521, -0.2565,  0.5841,  ...,  0.2026,  0.2009, -0.1075],\n         [ 1.8592, -0.2366,  0.5646,  ...,  0.2126,  0.1694, -0.1237]],\n\n        [[ 0.3393,  0.1165,  0.1020,  ...,  0.2468,  0.5906,  0.1013],\n         [ 0.4061, -0.6016,  0.9823,  ..., -0.5036,  0.3123, -1.5159],\n         [ 2.0323,  0.1829,  0.4039,  ...,  0.7675,  1.3023, -0.5825],\n         ...,\n         [ 1.8608, -0.3378,  1.0673,  ...,  0.0712,  0.7458, -0.7570],\n         [ 1.9810, -0.4910,  1.0459,  ..., -0.1450,  0.3531, -1.1734],\n         [ 1.3295, -0.3777,  1.5947,  ..., -0.0977,  0.4060, -1.2244]],\n\n        [[ 0.3393,  0.1165,  0.1020,  ...,  0.2468,  0.5906,  0.1013],\n         [ 1.9753, -0.5844,  0.3685,  ...,  1.1658,  0.8050, -0.9801],\n         [ 1.2527,  0.6603,  0.4301,  ..., -0.7252,  0.2119, -1.2366],\n         ...,\n         [ 1.5576, -0.3019,  0.4338,  ...,  0.1656, -0.1545,  0.6149],\n         [ 1.2458, -0.1865,  0.4197,  ...,  0.1979,  0.1401,  0.4706],\n         [ 1.0782, -0.1251,  0.3828,  ...,  0.2154,  0.2490,  0.3989]],\n\n        ...,\n\n        [[ 0.3393,  0.1165,  0.1020,  ...,  0.2468,  0.5906,  0.1013],\n         [ 1.9753, -0.5844,  0.3685,  ...,  1.1658,  0.8050, -0.9801],\n         [ 1.1319, -0.2811, -0.4251,  ...,  1.1118, -0.7140, -1.5363],\n         ...,\n         [ 0.6095, -0.7104,  0.3283,  ...,  0.8655,  0.3989,  1.5637],\n         [ 0.2653, -0.9966,  0.4018,  ...,  1.3652,  0.6377,  1.7610],\n         [ 0.2949, -0.8135,  1.1082,  ...,  1.7494,  0.6393,  1.3184]],\n\n        [[ 0.3393,  0.1165,  0.1020,  ...,  0.2468,  0.5906,  0.1013],\n         [ 1.5388, -0.9269,  0.0027,  ...,  0.6502,  1.2769, -1.0751],\n         [ 0.1610, -0.4139, -0.6110,  ...,  0.3334, -0.4230, -1.1272],\n         ...,\n         [ 0.8078, -1.7674,  0.1296,  ..., -0.2379, -0.8429,  1.2394],\n         [ 0.0716, -1.6693,  0.4233,  ..., -0.1567, -1.0218,  1.4240],\n         [ 0.0586, -1.6275,  0.4515,  ..., -0.1555, -1.0444,  1.3946]],\n\n        [[ 0.3393,  0.1165,  0.1020,  ...,  0.2468,  0.5906,  0.1013],\n         [ 1.9753, -0.5844,  0.3685,  ...,  1.1658,  0.8050, -0.9801],\n         [ 0.0511, -1.1033, -1.0504,  ..., -0.5764,  1.5465, -1.5096],\n         ...,\n         [ 0.5934, -0.0658,  0.0151,  ..., -0.2684,  0.7239,  0.7967],\n         [ 0.5447,  0.0107,  0.1056,  ..., -0.1919,  0.7487,  0.6402],\n         [ 0.5670, -0.0294,  0.0545,  ..., -0.2317,  0.7363,  0.7249]]],\n       device='cuda:0', grad_fn=<NativeLayerNormBackward0>), pooler_output=tensor([[ 1.6449,  0.3534,  0.6010,  ...,  0.4423, -0.2111, -1.2326],\n        [ 1.4164, -0.1632,  1.5000,  ...,  0.0351,  0.3716, -1.4485],\n        [ 1.6229,  0.8815,  0.4991,  ...,  0.3356, -0.2343,  0.0912],\n        ...,\n        [ 0.2202, -0.7419,  1.1420,  ...,  1.8611,  0.6530,  0.9796],\n        [ 0.1717, -1.5314,  0.3750,  ..., -0.2011, -1.1004,  1.1262],\n        [ 0.5270, -0.0658, -0.2981,  ..., -0.4246,  0.7575,  0.8493]],\n       device='cuda:0', grad_fn=<IndexBackward0>), hidden_states=None, attentions=None), vision_model_output=BaseModelOutputWithPooling(last_hidden_state=tensor([[[-0.0921,  0.1623, -0.0582,  ...,  0.0274, -0.0515, -0.3279],\n         [-0.1943, -0.0101, -0.6657,  ..., -0.0134,  0.3730,  0.3549],\n         [ 0.0067,  0.3227, -0.1287,  ..., -0.1081,  0.5239, -0.4902],\n         ...,\n         [ 0.7155,  0.3483,  0.2555,  ...,  0.6806, -0.6084,  0.2449],\n         [-0.2183, -0.4012,  0.1131,  ..., -0.1247,  0.1378,  0.0040],\n         [-0.2840,  0.0729, -0.2521,  ...,  0.3541,  0.1265, -0.0063]],\n\n        [[ 0.0097,  0.3026, -0.0368,  ...,  0.4495,  0.2681,  0.0604],\n         [-0.3260,  0.5925,  0.5308,  ...,  0.1112,  0.4232,  0.1824],\n         [-0.0728,  0.4736,  0.3306,  ...,  0.0724,  0.3694,  0.0402],\n         ...,\n         [ 0.3012, -0.1330,  0.1465,  ...,  0.1478,  0.3006, -0.2510],\n         [ 0.4463,  0.3834,  0.0993,  ...,  0.1580,  0.5193,  0.0015],\n         [ 0.4929,  1.1250,  0.6045,  ...,  0.5746,  0.1443,  0.4769]],\n\n        [[ 0.0957,  0.0934,  0.0687,  ..., -0.2412,  0.1644, -0.1613],\n         [-0.0479, -0.4286, -0.1331,  ...,  0.2348,  0.3272,  0.3362],\n         [ 0.1550, -0.5199, -0.0918,  ...,  0.0978,  0.3151,  0.9858],\n         ...,\n         [ 0.2887,  0.2802, -0.1789,  ...,  0.3508,  0.3846,  0.3747],\n         [-0.3587, -0.5519, -0.0159,  ...,  0.5888, -0.0158, -0.7356],\n         [ 0.1447, -0.5297, -0.0245,  ...,  0.5291, -0.0864, -0.2943]],\n\n        ...,\n\n        [[-0.0805,  0.1505,  0.1238,  ...,  0.4005,  0.4959, -0.2513],\n         [ 0.1986,  0.6131,  0.1315,  ...,  1.0223,  0.6924, -0.1138],\n         [-0.1884,  0.6551, -0.0596,  ...,  1.2073,  0.8456, -0.0596],\n         ...,\n         [-0.4863,  0.4701, -0.0079,  ...,  1.4668,  0.4555, -0.5146],\n         [-0.5079, -0.1994, -0.1739,  ...,  0.5096,  0.7556, -0.4394],\n         [-0.6548, -0.2155, -0.0190,  ...,  0.2527,  0.7900, -0.1671]],\n\n        [[-0.0910,  0.0539,  0.0556,  ..., -0.4292,  0.1746, -0.0294],\n         [ 0.1780, -0.1959,  0.1942,  ...,  0.0403,  0.4421,  0.1116],\n         [ 0.1623,  0.4907, -0.4563,  ...,  0.6988,  0.8651,  0.4992],\n         ...,\n         [ 0.7644,  0.7523, -0.4999,  ...,  0.5450, -0.1053,  0.3384],\n         [ 0.7378,  0.5875,  0.1691,  ...,  0.1183,  0.0379, -0.2196],\n         [ 0.1144,  0.9061, -0.1128,  ..., -0.0230,  0.0448,  0.3047]],\n\n        [[ 0.1902,  0.6343,  0.2356,  ..., -0.0219,  0.2379, -0.1020],\n         [ 0.2669, -0.0311, -0.0715,  ..., -0.0868,  0.6371, -0.0698],\n         [ 0.2385, -0.7480,  0.5411,  ...,  0.0975,  1.1676, -0.3022],\n         ...,\n         [ 0.2610,  1.3945, -0.2166,  ...,  0.4669,  1.3697,  0.1689],\n         [ 0.2387,  0.5201,  0.0027,  ...,  0.1407,  1.0240,  0.5617],\n         [ 0.3737,  0.5770,  0.4998,  ...,  0.3907,  0.9571, -0.2572]]],\n       device='cuda:0', grad_fn=<AddBackward0>), pooler_output=tensor([[-0.1791,  0.3293, -0.0670,  ...,  0.1032, -0.0231, -1.2479],\n        [ 0.2290,  0.8256,  0.0236,  ...,  1.7549,  1.2602,  0.4317],\n        [ 0.5919,  0.0432,  0.4550,  ..., -1.0171,  0.8964, -0.5062],\n        ...,\n        [-0.0618,  0.1332,  0.5594,  ...,  1.2899,  1.8292, -0.6677],\n        [-0.1362, -0.1591,  0.3625,  ..., -1.6056,  0.8398,  0.0689],\n        [ 0.8892,  1.9975,  1.0270,  ..., -0.0967,  1.0961, -0.2085]],\n       device='cuda:0', grad_fn=<NativeLayerNormBackward0>), hidden_states=None, attentions=None))"
     },
     "execution_count": 5,
     "metadata": {},
     "output_type": "execute_result"
    }
   ],
   "source": [
    "encoder(**inputs)"
   ],
   "metadata": {
    "collapsed": false,
    "ExecuteTime": {
     "end_time": "2024-06-24T08:03:32.681173200Z",
     "start_time": "2024-06-24T08:03:29.246786600Z"
    }
   }
  },
  {
   "cell_type": "code",
   "execution_count": 6,
   "outputs": [
    {
     "name": "stderr",
     "output_type": "stream",
     "text": [
      "Testing:   0%|                                  | 1/463 [00:03<28:37,  3.72s/it]"
     ]
    },
    {
     "name": "stdout",
     "output_type": "stream",
     "text": [
      "count_1: tensor(0.3039, device='cuda:0')\n"
     ]
    },
    {
     "name": "stderr",
     "output_type": "stream",
     "text": [
      "Testing:   0%|▏                                 | 2/463 [00:07<29:26,  3.83s/it]"
     ]
    },
    {
     "name": "stdout",
     "output_type": "stream",
     "text": [
      "count_2: tensor(0.3043, device='cuda:0')\n"
     ]
    },
    {
     "name": "stderr",
     "output_type": "stream",
     "text": [
      "Testing:   1%|▏                                 | 3/463 [00:11<29:09,  3.80s/it]"
     ]
    },
    {
     "name": "stdout",
     "output_type": "stream",
     "text": [
      "count_3: tensor(0.3052, device='cuda:0')\n"
     ]
    },
    {
     "name": "stderr",
     "output_type": "stream",
     "text": [
      "Testing:   1%|▎                                 | 4/463 [00:15<28:47,  3.76s/it]"
     ]
    },
    {
     "name": "stdout",
     "output_type": "stream",
     "text": [
      "count_4: tensor(0.3050, device='cuda:0')\n"
     ]
    },
    {
     "name": "stderr",
     "output_type": "stream",
     "text": [
      "Testing:   1%|▎                                 | 5/463 [00:18<28:36,  3.75s/it]"
     ]
    },
    {
     "name": "stdout",
     "output_type": "stream",
     "text": [
      "count_5: tensor(0.3035, device='cuda:0')\n"
     ]
    },
    {
     "name": "stderr",
     "output_type": "stream",
     "text": [
      "Testing:   1%|▍                                 | 6/463 [00:22<28:56,  3.80s/it]"
     ]
    },
    {
     "name": "stdout",
     "output_type": "stream",
     "text": [
      "count_6: tensor(0.3034, device='cuda:0')\n"
     ]
    },
    {
     "name": "stderr",
     "output_type": "stream",
     "text": [
      "Testing:   2%|▌                                 | 7/463 [00:26<28:05,  3.70s/it]"
     ]
    },
    {
     "name": "stdout",
     "output_type": "stream",
     "text": [
      "count_7: tensor(0.3036, device='cuda:0')\n"
     ]
    },
    {
     "name": "stderr",
     "output_type": "stream",
     "text": [
      "Testing:   2%|▌                                 | 8/463 [00:29<27:25,  3.62s/it]"
     ]
    },
    {
     "name": "stdout",
     "output_type": "stream",
     "text": [
      "count_8: tensor(0.3036, device='cuda:0')\n"
     ]
    },
    {
     "name": "stderr",
     "output_type": "stream",
     "text": [
      "Testing:   2%|▋                                 | 9/463 [00:33<27:27,  3.63s/it]"
     ]
    },
    {
     "name": "stdout",
     "output_type": "stream",
     "text": [
      "count_9: tensor(0.3037, device='cuda:0')\n"
     ]
    },
    {
     "name": "stderr",
     "output_type": "stream",
     "text": [
      "Testing:   2%|▋                                | 10/463 [00:36<27:24,  3.63s/it]"
     ]
    },
    {
     "name": "stdout",
     "output_type": "stream",
     "text": [
      "count_10: tensor(0.3037, device='cuda:0')\n"
     ]
    },
    {
     "name": "stderr",
     "output_type": "stream",
     "text": [
      "Testing:   2%|▊                                | 11/463 [00:40<27:42,  3.68s/it]"
     ]
    },
    {
     "name": "stdout",
     "output_type": "stream",
     "text": [
      "count_11: tensor(0.3037, device='cuda:0')\n"
     ]
    },
    {
     "name": "stderr",
     "output_type": "stream",
     "text": [
      "Testing:   3%|▊                                | 12/463 [00:44<28:05,  3.74s/it]"
     ]
    },
    {
     "name": "stdout",
     "output_type": "stream",
     "text": [
      "count_12: tensor(0.3041, device='cuda:0')\n"
     ]
    },
    {
     "name": "stderr",
     "output_type": "stream",
     "text": [
      "Testing:   3%|▉                                | 13/463 [00:48<27:55,  3.72s/it]"
     ]
    },
    {
     "name": "stdout",
     "output_type": "stream",
     "text": [
      "count_13: tensor(0.3041, device='cuda:0')\n",
      "count_14: "
     ]
    },
    {
     "name": "stderr",
     "output_type": "stream",
     "text": [
      "Testing:   3%|▉                                | 14/463 [00:51<27:35,  3.69s/it]"
     ]
    },
    {
     "name": "stdout",
     "output_type": "stream",
     "text": [
      "tensor(0.3039, device='cuda:0')\n"
     ]
    },
    {
     "name": "stderr",
     "output_type": "stream",
     "text": [
      "Testing:   3%|█                                | 15/463 [00:55<27:21,  3.67s/it]"
     ]
    },
    {
     "name": "stdout",
     "output_type": "stream",
     "text": [
      "count_15: tensor(0.3038, device='cuda:0')\n"
     ]
    },
    {
     "name": "stderr",
     "output_type": "stream",
     "text": [
      "Testing:   3%|█▏                               | 16/463 [00:59<27:55,  3.75s/it]"
     ]
    },
    {
     "name": "stdout",
     "output_type": "stream",
     "text": [
      "count_16: tensor(0.3040, device='cuda:0')\n"
     ]
    },
    {
     "name": "stderr",
     "output_type": "stream",
     "text": [
      "Testing:   4%|█▏                               | 17/463 [01:03<27:36,  3.71s/it]"
     ]
    },
    {
     "name": "stdout",
     "output_type": "stream",
     "text": [
      "count_17: tensor(0.3040, device='cuda:0')\n"
     ]
    },
    {
     "name": "stderr",
     "output_type": "stream",
     "text": [
      "Testing:   4%|█▎                               | 18/463 [01:06<27:10,  3.66s/it]"
     ]
    },
    {
     "name": "stdout",
     "output_type": "stream",
     "text": [
      "count_18: tensor(0.3041, device='cuda:0')\n"
     ]
    },
    {
     "name": "stderr",
     "output_type": "stream",
     "text": [
      "Testing:   4%|█▎                               | 19/463 [01:10<26:57,  3.64s/it]"
     ]
    },
    {
     "name": "stdout",
     "output_type": "stream",
     "text": [
      "count_19: tensor(0.3040, device='cuda:0')\n"
     ]
    },
    {
     "name": "stderr",
     "output_type": "stream",
     "text": [
      "Testing:   4%|█▍                               | 20/463 [01:13<26:25,  3.58s/it]"
     ]
    },
    {
     "name": "stdout",
     "output_type": "stream",
     "text": [
      "count_20: tensor(0.3041, device='cuda:0')\n",
      "count_21: "
     ]
    },
    {
     "name": "stderr",
     "output_type": "stream",
     "text": [
      "Testing:   5%|█▍                               | 21/463 [01:17<26:17,  3.57s/it]"
     ]
    },
    {
     "name": "stdout",
     "output_type": "stream",
     "text": [
      "tensor(0.3039, device='cuda:0')\n"
     ]
    },
    {
     "name": "stderr",
     "output_type": "stream",
     "text": [
      "Testing:   5%|█▌                               | 22/463 [01:20<26:11,  3.56s/it]"
     ]
    },
    {
     "name": "stdout",
     "output_type": "stream",
     "text": [
      "count_22: tensor(0.3040, device='cuda:0')\n"
     ]
    },
    {
     "name": "stderr",
     "output_type": "stream",
     "text": [
      "Testing:   5%|█▋                               | 23/463 [01:24<26:02,  3.55s/it]"
     ]
    },
    {
     "name": "stdout",
     "output_type": "stream",
     "text": [
      "count_23: tensor(0.3039, device='cuda:0')\n"
     ]
    },
    {
     "name": "stderr",
     "output_type": "stream",
     "text": [
      "Testing:   5%|█▋                               | 24/463 [01:27<26:19,  3.60s/it]"
     ]
    },
    {
     "name": "stdout",
     "output_type": "stream",
     "text": [
      "count_24: tensor(0.3040, device='cuda:0')\n"
     ]
    },
    {
     "name": "stderr",
     "output_type": "stream",
     "text": [
      "Testing:   5%|█▊                               | 25/463 [01:31<26:20,  3.61s/it]"
     ]
    },
    {
     "name": "stdout",
     "output_type": "stream",
     "text": [
      "count_25: tensor(0.3040, device='cuda:0')\n"
     ]
    },
    {
     "name": "stderr",
     "output_type": "stream",
     "text": [
      "Testing:   6%|█▊                               | 26/463 [01:35<26:31,  3.64s/it]"
     ]
    },
    {
     "name": "stdout",
     "output_type": "stream",
     "text": [
      "count_26: tensor(0.3040, device='cuda:0')\n",
      "count_27: "
     ]
    },
    {
     "name": "stderr",
     "output_type": "stream",
     "text": [
      "Testing:   6%|█▉                               | 27/463 [01:39<26:32,  3.65s/it]"
     ]
    },
    {
     "name": "stdout",
     "output_type": "stream",
     "text": [
      "tensor(0.3039, device='cuda:0')\n"
     ]
    },
    {
     "name": "stderr",
     "output_type": "stream",
     "text": [
      "Testing:   6%|█▉                               | 28/463 [01:42<26:23,  3.64s/it]"
     ]
    },
    {
     "name": "stdout",
     "output_type": "stream",
     "text": [
      "count_28: tensor(0.3038, device='cuda:0')\n"
     ]
    },
    {
     "name": "stderr",
     "output_type": "stream",
     "text": [
      "Testing:   6%|██                               | 29/463 [01:46<26:41,  3.69s/it]"
     ]
    },
    {
     "name": "stdout",
     "output_type": "stream",
     "text": [
      "count_29: tensor(0.3038, device='cuda:0')\n"
     ]
    },
    {
     "name": "stderr",
     "output_type": "stream",
     "text": [
      "Testing:   6%|██                               | 29/463 [01:49<27:25,  3.79s/it]"
     ]
    },
    {
     "name": "stdout",
     "output_type": "stream",
     "text": [
      "count_30: tensor(0.3038, device='cuda:0')\n"
     ]
    },
    {
     "name": "stderr",
     "output_type": "stream",
     "text": [
      "\n"
     ]
    }
   ],
   "source": [
    "def process_text(texts):\n",
    "    input_text = []\n",
    "    for text in texts:\n",
    "        input_text.append(text[0])\n",
    "    return input_text\n",
    "\n",
    "def calculate_cos(image_emb, output_encode):\n",
    "    cos_sim = torch.nn.functional.cosine_similarity(image_emb, output_encode, dim=1)\n",
    "    return cos_sim.sum()\n",
    "sim=0.0\n",
    "eval_batch=30\n",
    "count=0\n",
    "with torch.no_grad():\n",
    "    for (images, texts) in tqdm(train_data_loader, desc=\"Testing\", position=0):\n",
    "        # images=images.to(device)\n",
    "        # texts=texts.to(device)\n",
    "        inputs = processor(text=process_text(texts), images=images, return_tensors=\"pt\", padding=True).to(device)\n",
    "        # print(type(inputs))\n",
    "        output=encoder(**inputs)\n",
    "        img_embeds=output.image_embeds\n",
    "        text_embeds=output.text_embeds\n",
    "        sim+=calculate_cos(img_embeds,text_embeds)\n",
    "        count+=1\n",
    "        print(f\"count_{count}:\",sim/(count*batch_size))\n",
    "        if count==eval_batch:\n",
    "            break\n",
    "    # print(\"sim:\",sim/(eval_batch*batch_size))\n",
    "\n",
    "\n"
   ],
   "metadata": {
    "collapsed": false,
    "ExecuteTime": {
     "end_time": "2024-06-24T08:05:22.629817200Z",
     "start_time": "2024-06-24T08:03:32.681173200Z"
    }
   }
  },
  {
   "cell_type": "code",
   "execution_count": 6,
   "outputs": [],
   "source": [],
   "metadata": {
    "collapsed": false,
    "ExecuteTime": {
     "end_time": "2024-06-24T08:05:22.629817200Z",
     "start_time": "2024-06-24T08:05:22.629817200Z"
    }
   }
  },
  {
   "cell_type": "code",
   "execution_count": 6,
   "outputs": [],
   "source": [],
   "metadata": {
    "collapsed": false,
    "ExecuteTime": {
     "end_time": "2024-06-24T08:05:22.629817200Z",
     "start_time": "2024-06-24T08:05:22.629817200Z"
    }
   }
  },
  {
   "cell_type": "code",
   "execution_count": 6,
   "outputs": [],
   "source": [],
   "metadata": {
    "collapsed": false,
    "ExecuteTime": {
     "end_time": "2024-06-24T08:05:22.630829600Z",
     "start_time": "2024-06-24T08:05:22.629817200Z"
    }
   }
  }
 ],
 "metadata": {
  "kernelspec": {
   "display_name": "Python 3",
   "language": "python",
   "name": "python3"
  },
  "language_info": {
   "codemirror_mode": {
    "name": "ipython",
    "version": 2
   },
   "file_extension": ".py",
   "mimetype": "text/x-python",
   "name": "python",
   "nbconvert_exporter": "python",
   "pygments_lexer": "ipython2",
   "version": "2.7.6"
  }
 },
 "nbformat": 4,
 "nbformat_minor": 0
}
